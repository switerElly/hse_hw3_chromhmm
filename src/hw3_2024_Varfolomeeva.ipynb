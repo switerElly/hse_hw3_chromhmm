{
  "nbformat": 4,
  "nbformat_minor": 0,
  "metadata": {
    "colab": {
      "provenance": []
    },
    "kernelspec": {
      "name": "python3",
      "display_name": "Python 3"
    },
    "language_info": {
      "name": "python"
    }
  },
  "cells": [
    {
      "cell_type": "markdown",
      "source": [
        "# Устанавливаем java и ChromHmm"
      ],
      "metadata": {
        "id": "vRciyzvPEDLD"
      }
    },
    {
      "cell_type": "code",
      "source": [
        "#!curl -O https://raw.githubusercontent.com/deepjavalibrary/d2l-java/master/tools/fix-colab-gpu.sh && bash fix-colab-gpu.sh"
      ],
      "metadata": {
        "colab": {
          "base_uri": "https://localhost:8080/"
        },
        "id": "1O3GJ3Gys7Tm",
        "outputId": "6a820c5e-eaf4-4bbb-da48-7733600df394"
      },
      "execution_count": null,
      "outputs": [
        {
          "output_type": "stream",
          "name": "stdout",
          "text": [
            "  % Total    % Received % Xferd  Average Speed   Time    Time     Time  Current\n",
            "                                 Dload  Upload   Total   Spent    Left  Speed\n",
            "\r  0     0    0     0    0     0      0      0 --:--:-- --:--:-- --:--:--     0\r100   155  100   155    0     0    849      0 --:--:-- --:--:-- --:--:--   851\n",
            "ln: failed to create symbolic link '/usr/lib64-nvidia': File exists\n",
            "fix-colab-gpu.sh: line 5: nvcc: command not found\n"
          ]
        }
      ]
    },
    {
      "cell_type": "code",
      "execution_count": null,
      "metadata": {
        "colab": {
          "base_uri": "https://localhost:8080/"
        },
        "id": "NxS1Mv5WquOV",
        "outputId": "8e5694f1-04e8-4aa7-b857-d96fc4c7a73f"
      },
      "outputs": [
        {
          "output_type": "stream",
          "name": "stdout",
          "text": [
            "  % Total    % Received % Xferd  Average Speed   Time    Time     Time  Current\n",
            "                                 Dload  Upload   Total   Spent    Left  Speed\n",
            "100   520  100   520    0     0   2286      0 --:--:-- --:--:-- --:--:--  2290\n",
            "Update environment...\n",
            "Install Java...\n",
            "Install Jupyter java kernel...\n"
          ]
        }
      ],
      "source": [
        "!curl -O https://raw.githubusercontent.com/deepjavalibrary/d2l-java/master/tools/colab_build.sh && bash colab_build.sh"
      ]
    },
    {
      "cell_type": "code",
      "source": [
        "!java --list-modules | grep \"jdk.jshell\"\n"
      ],
      "metadata": {
        "colab": {
          "base_uri": "https://localhost:8080/"
        },
        "id": "_NrPS924rQFX",
        "outputId": "98162586-c21e-4764-c8df-f630b675fba8"
      },
      "execution_count": null,
      "outputs": [
        {
          "output_type": "stream",
          "name": "stdout",
          "text": [
            "jdk.jshell@11.0.22\n"
          ]
        }
      ]
    },
    {
      "cell_type": "code",
      "source": [
        "! wget http://compbio.mit.edu/ChromHMM/ChromHMM.zip"
      ],
      "metadata": {
        "colab": {
          "base_uri": "https://localhost:8080/"
        },
        "id": "zCdYYvCJrpRt",
        "outputId": "2242666c-ccf0-4ae1-fece-57527499190e"
      },
      "execution_count": null,
      "outputs": [
        {
          "output_type": "stream",
          "name": "stdout",
          "text": [
            "--2024-03-21 20:25:31--  http://compbio.mit.edu/ChromHMM/ChromHMM.zip\n",
            "Resolving compbio.mit.edu (compbio.mit.edu)... 128.52.131.233\n",
            "Connecting to compbio.mit.edu (compbio.mit.edu)|128.52.131.233|:80... connected.\n",
            "HTTP request sent, awaiting response... 301 Moved Permanently\n",
            "Location: https://compbio.mit.edu/ChromHMM/ChromHMM.zip [following]\n",
            "--2024-03-21 20:25:31--  https://compbio.mit.edu/ChromHMM/ChromHMM.zip\n",
            "Connecting to compbio.mit.edu (compbio.mit.edu)|128.52.131.233|:443... connected.\n",
            "HTTP request sent, awaiting response... 200 OK\n",
            "Length: 48974627 (47M) [application/zip]\n",
            "Saving to: ‘ChromHMM.zip’\n",
            "\n",
            "ChromHMM.zip        100%[===================>]  46.71M  86.7MB/s    in 0.5s    \n",
            "\n",
            "2024-03-21 20:25:31 (86.7 MB/s) - ‘ChromHMM.zip’ saved [48974627/48974627]\n",
            "\n"
          ]
        }
      ]
    },
    {
      "cell_type": "code",
      "source": [
        "!unzip /content/ChromHMM.zip"
      ],
      "metadata": {
        "id": "gF4uI2bvvEN2",
        "colab": {
          "base_uri": "https://localhost:8080/"
        },
        "outputId": "2cf6dd4a-e339-490b-8c7c-696baf02c07b"
      },
      "execution_count": null,
      "outputs": [
        {
          "output_type": "stream",
          "name": "stdout",
          "text": [
            "Archive:  /content/ChromHMM.zip\n",
            "   creating: ChromHMM/ANCHORFILES/\n",
            "   creating: ChromHMM/ANCHORFILES/ce10/\n",
            "  inflating: ChromHMM/ANCHORFILES/ce10/RefSeqTES.ce10.txt.gz  \n",
            "  inflating: ChromHMM/ANCHORFILES/ce10/RefSeqTSS.ce10.txt.gz  \n",
            "   creating: ChromHMM/ANCHORFILES/ce11/\n",
            "  inflating: ChromHMM/ANCHORFILES/ce11/RefSeqTES.ce11.txt.gz  \n",
            "  inflating: ChromHMM/ANCHORFILES/ce11/RefSeqTSS.ce11.txt.gz  \n",
            "   creating: ChromHMM/ANCHORFILES/ce6/\n",
            "  inflating: ChromHMM/ANCHORFILES/ce6/RefSeqTES.ce6.txt.gz  \n",
            "  inflating: ChromHMM/ANCHORFILES/ce6/RefSeqTSS.ce6.txt.gz  \n",
            "   creating: ChromHMM/ANCHORFILES/danRer10/\n",
            "  inflating: ChromHMM/ANCHORFILES/danRer10/RefSeqTES.danRer10.txt.gz  \n",
            "  inflating: ChromHMM/ANCHORFILES/danRer10/RefSeqTSS.danRer10.txt.gz  \n",
            "   creating: ChromHMM/ANCHORFILES/danRer11/\n",
            "  inflating: ChromHMM/ANCHORFILES/danRer11/RefSeqTES.danRer11.txt.gz  \n",
            "  inflating: ChromHMM/ANCHORFILES/danRer11/RefSeqTSS.danRer11.txt.gz  \n",
            "   creating: ChromHMM/ANCHORFILES/danRer7/\n",
            "  inflating: ChromHMM/ANCHORFILES/danRer7/RefSeqTES.danRer7.txt.gz  \n",
            "  inflating: ChromHMM/ANCHORFILES/danRer7/RefSeqTSS.danRer7.txt.gz  \n",
            "   creating: ChromHMM/ANCHORFILES/dm3/\n",
            "  inflating: ChromHMM/ANCHORFILES/dm3/RefSeqTES.dm3.txt.gz  \n",
            "  inflating: ChromHMM/ANCHORFILES/dm3/RefSeqTSS.dm3.txt.gz  \n",
            "   creating: ChromHMM/ANCHORFILES/dm6/\n",
            "  inflating: ChromHMM/ANCHORFILES/dm6/RefSeqTES.dm6.txt.gz  \n",
            "  inflating: ChromHMM/ANCHORFILES/dm6/RefSeqTSS.dm6.txt.gz  \n",
            "   creating: ChromHMM/ANCHORFILES/hg18/\n",
            "  inflating: ChromHMM/ANCHORFILES/hg18/RefSeqTES.hg18.txt.gz  \n",
            "  inflating: ChromHMM/ANCHORFILES/hg18/RefSeqTSS.hg18.txt.gz  \n",
            "   creating: ChromHMM/ANCHORFILES/hg19/\n",
            "  inflating: ChromHMM/ANCHORFILES/hg19/RefSeqTES.hg19.txt.gz  \n",
            "  inflating: ChromHMM/ANCHORFILES/hg19/RefSeqTSS.hg19.txt.gz  \n",
            "   creating: ChromHMM/ANCHORFILES/hg38/\n",
            "  inflating: ChromHMM/ANCHORFILES/hg38/RefSeqTES.hg38.txt.gz  \n",
            "  inflating: ChromHMM/ANCHORFILES/hg38/RefSeqTSS.hg38.txt.gz  \n",
            "   creating: ChromHMM/ANCHORFILES/hs1/\n",
            "  inflating: ChromHMM/ANCHORFILES/hs1/RefSeqTES.hs1.txt.gz  \n",
            "  inflating: ChromHMM/ANCHORFILES/hs1/RefSeqTSS.hs1.txt.gz  \n",
            "   creating: ChromHMM/ANCHORFILES/mm10/\n",
            "  inflating: ChromHMM/ANCHORFILES/mm10/RefSeqTES.mm10.txt.gz  \n",
            "  inflating: ChromHMM/ANCHORFILES/mm10/RefSeqTSS.mm10.txt.gz  \n",
            "   creating: ChromHMM/ANCHORFILES/mm39/\n",
            "  inflating: ChromHMM/ANCHORFILES/mm39/RefSeqTES.mm39.txt.gz  \n",
            "  inflating: ChromHMM/ANCHORFILES/mm39/RefSeqTSS.mm39.txt.gz  \n",
            "   creating: ChromHMM/ANCHORFILES/mm9/\n",
            "  inflating: ChromHMM/ANCHORFILES/mm9/RefSeqTES.mm9.txt.gz  \n",
            "  inflating: ChromHMM/ANCHORFILES/mm9/RefSeqTSS.mm9.txt.gz  \n",
            "   creating: ChromHMM/ANCHORFILES/rn5/\n",
            "  inflating: ChromHMM/ANCHORFILES/rn5/RefSeqTES.rn5.txt.gz  \n",
            "  inflating: ChromHMM/ANCHORFILES/rn5/RefSeqTSS.rn5.txt.gz  \n",
            "   creating: ChromHMM/ANCHORFILES/rn6/\n",
            "  inflating: ChromHMM/ANCHORFILES/rn6/RefSeqTES.rn6.txt.gz  \n",
            "  inflating: ChromHMM/ANCHORFILES/rn6/RefSeqTSS.rn6.txt.gz  \n",
            "  inflating: ChromHMM/ChromHMM.jar   \n",
            "  inflating: ChromHMM/ChromHMM_manual.pdf  \n",
            "   creating: ChromHMM/CHROMSIZES/\n",
            "  inflating: ChromHMM/CHROMSIZES/ce10.txt  \n",
            "  inflating: ChromHMM/CHROMSIZES/ce11.txt  \n",
            "  inflating: ChromHMM/CHROMSIZES/ce6.txt  \n",
            "  inflating: ChromHMM/CHROMSIZES/danRer10.txt  \n",
            "  inflating: ChromHMM/CHROMSIZES/danRer11.txt  \n",
            "  inflating: ChromHMM/CHROMSIZES/danRer7.txt  \n",
            "  inflating: ChromHMM/CHROMSIZES/dm3.txt  \n",
            "  inflating: ChromHMM/CHROMSIZES/dm6.txt  \n",
            "  inflating: ChromHMM/CHROMSIZES/hg18.txt  \n",
            "  inflating: ChromHMM/CHROMSIZES/hg19.txt  \n",
            "  inflating: ChromHMM/CHROMSIZES/hg38.txt  \n",
            "  inflating: ChromHMM/CHROMSIZES/hs1.txt  \n",
            "  inflating: ChromHMM/CHROMSIZES/mm10.txt  \n",
            "  inflating: ChromHMM/CHROMSIZES/mm39.txt  \n",
            "  inflating: ChromHMM/CHROMSIZES/mm9.txt  \n",
            "  inflating: ChromHMM/CHROMSIZES/rn5.txt  \n",
            "  inflating: ChromHMM/CHROMSIZES/rn6.txt  \n",
            "   creating: ChromHMM/COORDS/\n",
            "   creating: ChromHMM/COORDS/ce10/\n",
            "  inflating: ChromHMM/COORDS/ce10/RefSeqExon.ce10.bed.gz  \n",
            "  inflating: ChromHMM/COORDS/ce10/RefSeqGene.ce10.bed.gz  \n",
            "  inflating: ChromHMM/COORDS/ce10/RefSeqTES.ce10.bed.gz  \n",
            "  inflating: ChromHMM/COORDS/ce10/RefSeqTSS.ce10.bed.gz  \n",
            "  inflating: ChromHMM/COORDS/ce10/RefSeqTSS2kb.ce10.bed.gz  \n",
            "   creating: ChromHMM/COORDS/ce11/\n",
            "  inflating: ChromHMM/COORDS/ce11/RefSeqExon.ce11.bed.gz  \n",
            "  inflating: ChromHMM/COORDS/ce11/RefSeqGene.ce11.bed.gz  \n",
            "  inflating: ChromHMM/COORDS/ce11/RefSeqTES.ce11.bed.gz  \n",
            "  inflating: ChromHMM/COORDS/ce11/RefSeqTSS.ce11.bed.gz  \n",
            "  inflating: ChromHMM/COORDS/ce11/RefSeqTSS2kb.ce11.bed.gz  \n",
            "   creating: ChromHMM/COORDS/ce6/\n",
            "  inflating: ChromHMM/COORDS/ce6/RefSeqExon.ce6.bed.gz  \n",
            "  inflating: ChromHMM/COORDS/ce6/RefSeqGene.ce6.bed.gz  \n",
            "  inflating: ChromHMM/COORDS/ce6/RefSeqTES.ce6.bed.gz  \n",
            "  inflating: ChromHMM/COORDS/ce6/RefSeqTSS.ce6.bed.gz  \n",
            "  inflating: ChromHMM/COORDS/ce6/RefSeqTSS2kb.ce6.bed.gz  \n",
            "   creating: ChromHMM/COORDS/danRer10/\n",
            "  inflating: ChromHMM/COORDS/danRer10/RefSeqExon.danRer10.bed.gz  \n",
            "  inflating: ChromHMM/COORDS/danRer10/RefSeqGene.danRer10.bed.gz  \n",
            "  inflating: ChromHMM/COORDS/danRer10/RefSeqTES.danRer10.bed.gz  \n",
            "  inflating: ChromHMM/COORDS/danRer10/RefSeqTSS.danRer10.bed.gz  \n",
            "  inflating: ChromHMM/COORDS/danRer10/RefSeqTSS2kb.danRer10.bed.gz  \n",
            "   creating: ChromHMM/COORDS/danRer11/\n",
            "  inflating: ChromHMM/COORDS/danRer11/RefSeqExon.danRer11.bed.gz  \n",
            "  inflating: ChromHMM/COORDS/danRer11/RefSeqGene.danRer11.bed.gz  \n",
            "  inflating: ChromHMM/COORDS/danRer11/RefSeqTES.danRer11.bed.gz  \n",
            "  inflating: ChromHMM/COORDS/danRer11/RefSeqTSS.danRer11.bed.gz  \n",
            "  inflating: ChromHMM/COORDS/danRer11/RefSeqTSS2kb.danRer11.bed.gz  \n",
            "   creating: ChromHMM/COORDS/danRer7/\n",
            "  inflating: ChromHMM/COORDS/danRer7/RefSeqExon.danRer7.bed.gz  \n",
            "  inflating: ChromHMM/COORDS/danRer7/RefSeqGene.danRer7.bed.gz  \n",
            "  inflating: ChromHMM/COORDS/danRer7/RefSeqTES.danRer7.bed.gz  \n",
            "  inflating: ChromHMM/COORDS/danRer7/RefSeqTSS.danRer7.bed.gz  \n",
            "  inflating: ChromHMM/COORDS/danRer7/RefSeqTSS2kb.danRer7.bed.gz  \n",
            "   creating: ChromHMM/COORDS/dm3/\n",
            "  inflating: ChromHMM/COORDS/dm3/RefSeqExon.dm3.bed.gz  \n",
            "  inflating: ChromHMM/COORDS/dm3/RefSeqGene.dm3.bed.gz  \n",
            "  inflating: ChromHMM/COORDS/dm3/RefSeqTES.dm3.bed.gz  \n",
            "  inflating: ChromHMM/COORDS/dm3/RefSeqTSS.dm3.bed.gz  \n",
            "  inflating: ChromHMM/COORDS/dm3/RefSeqTSS2kb.dm3.bed.gz  \n",
            "   creating: ChromHMM/COORDS/dm6/\n",
            "  inflating: ChromHMM/COORDS/dm6/RefSeqExon.dm6.bed.gz  \n",
            "  inflating: ChromHMM/COORDS/dm6/RefSeqGene.dm6.bed.gz  \n",
            "  inflating: ChromHMM/COORDS/dm6/RefSeqTES.dm6.bed.gz  \n",
            "  inflating: ChromHMM/COORDS/dm6/RefSeqTSS.dm6.bed.gz  \n",
            "  inflating: ChromHMM/COORDS/dm6/RefSeqTSS2kb.dm6.bed.gz  \n",
            "   creating: ChromHMM/COORDS/hg18/\n",
            "  inflating: ChromHMM/COORDS/hg18/CpGIsland.hg18.bed.gz  \n",
            " extracting: ChromHMM/COORDS/hg18/laminB1lads.hg18.bed.gz  \n",
            "  inflating: ChromHMM/COORDS/hg18/RefSeqExon.hg18.bed.gz  \n",
            "  inflating: ChromHMM/COORDS/hg18/RefSeqGene.hg18.bed.gz  \n",
            "  inflating: ChromHMM/COORDS/hg18/RefSeqTES.hg18.bed.gz  \n",
            "  inflating: ChromHMM/COORDS/hg18/RefSeqTSS.hg18.bed.gz  \n",
            "  inflating: ChromHMM/COORDS/hg18/RefSeqTSS2kb.hg18.bed.gz  \n",
            "   creating: ChromHMM/COORDS/hg19/\n",
            "  inflating: ChromHMM/COORDS/hg19/CpGIsland.hg19.bed.gz  \n",
            " extracting: ChromHMM/COORDS/hg19/laminB1lads.hg19.bed.gz  \n",
            "  inflating: ChromHMM/COORDS/hg19/RefSeqExon.hg19.bed.gz  \n",
            "  inflating: ChromHMM/COORDS/hg19/RefSeqGene.hg19.bed.gz  \n",
            "  inflating: ChromHMM/COORDS/hg19/RefSeqTES.hg19.bed.gz  \n",
            "  inflating: ChromHMM/COORDS/hg19/RefSeqTSS.hg19.bed.gz  \n",
            "  inflating: ChromHMM/COORDS/hg19/RefSeqTSS2kb.hg19.bed.gz  \n",
            "   creating: ChromHMM/COORDS/hg38/\n",
            "  inflating: ChromHMM/COORDS/hg38/CpGIsland.hg38.bed.gz  \n",
            "  inflating: ChromHMM/COORDS/hg38/RefSeqExon.hg38.bed.gz  \n",
            "  inflating: ChromHMM/COORDS/hg38/RefSeqGene.hg38.bed.gz  \n",
            "  inflating: ChromHMM/COORDS/hg38/RefSeqTES.hg38.bed.gz  \n",
            "  inflating: ChromHMM/COORDS/hg38/RefSeqTSS.hg38.bed.gz  \n",
            "  inflating: ChromHMM/COORDS/hg38/RefSeqTSS2kb.hg38.bed.gz  \n",
            "   creating: ChromHMM/COORDS/hs1/\n",
            "  inflating: ChromHMM/COORDS/hs1/CpGIsland.hs1.bed.gz  \n",
            "  inflating: ChromHMM/COORDS/hs1/RefSeqExon.hs1.bed.gz  \n",
            "  inflating: ChromHMM/COORDS/hs1/RefSeqGene.hs1.bed.gz  \n",
            "  inflating: ChromHMM/COORDS/hs1/RefSeqTES.hs1.bed.gz  \n",
            "  inflating: ChromHMM/COORDS/hs1/RefSeqTSS.hs1.bed.gz  \n",
            "  inflating: ChromHMM/COORDS/hs1/RefSeqTSS2kb.hs1.bed.gz  \n",
            "   creating: ChromHMM/COORDS/mm10/\n",
            "  inflating: ChromHMM/COORDS/mm10/CpGIsland.mm10.bed.gz  \n",
            "  inflating: ChromHMM/COORDS/mm10/RefSeqExon.mm10.bed.gz  \n",
            "  inflating: ChromHMM/COORDS/mm10/RefSeqGene.mm10.bed.gz  \n",
            "  inflating: ChromHMM/COORDS/mm10/RefSeqTES.mm10.bed.gz  \n",
            "  inflating: ChromHMM/COORDS/mm10/RefSeqTSS.mm10.bed.gz  \n",
            "  inflating: ChromHMM/COORDS/mm10/RefSeqTSS2kb.mm10.bed.gz  \n",
            "   creating: ChromHMM/COORDS/mm39/\n",
            "  inflating: ChromHMM/COORDS/mm39/CpGIsland.mm39.bed.gz  \n",
            "  inflating: ChromHMM/COORDS/mm39/RefSeqExon.mm39.bed.gz  \n",
            "  inflating: ChromHMM/COORDS/mm39/RefSeqGene.mm39.bed.gz  \n",
            "  inflating: ChromHMM/COORDS/mm39/RefSeqTES.mm39.bed.gz  \n",
            "  inflating: ChromHMM/COORDS/mm39/RefSeqTSS.mm39.bed.gz  \n",
            "  inflating: ChromHMM/COORDS/mm39/RefSeqTSS2kb.mm39.bed.gz  \n",
            "   creating: ChromHMM/COORDS/mm9/\n",
            "  inflating: ChromHMM/COORDS/mm9/CpGIsland.mm9.bed.gz  \n",
            "  inflating: ChromHMM/COORDS/mm9/RefSeqExon.mm9.bed.gz  \n",
            "  inflating: ChromHMM/COORDS/mm9/RefSeqGene.mm9.bed.gz  \n",
            "  inflating: ChromHMM/COORDS/mm9/RefSeqTES.mm9.bed.gz  \n",
            "  inflating: ChromHMM/COORDS/mm9/RefSeqTSS.mm9.bed.gz  \n",
            "  inflating: ChromHMM/COORDS/mm9/RefSeqTSS2kb.mm9.bed.gz  \n",
            "   creating: ChromHMM/COORDS/rn5/\n",
            "  inflating: ChromHMM/COORDS/rn5/CpGIsland.rn5.bed.gz  \n",
            "  inflating: ChromHMM/COORDS/rn5/RefSeqExon.rn5.bed.gz  \n",
            "  inflating: ChromHMM/COORDS/rn5/RefSeqGene.rn5.bed.gz  \n",
            "  inflating: ChromHMM/COORDS/rn5/RefSeqTES.rn5.bed.gz  \n",
            "  inflating: ChromHMM/COORDS/rn5/RefSeqTSS.rn5.bed.gz  \n",
            "  inflating: ChromHMM/COORDS/rn5/RefSeqTSS2kb.rn5.bed.gz  \n",
            "   creating: ChromHMM/COORDS/rn6/\n",
            "  inflating: ChromHMM/COORDS/rn6/CpGIsland.rn6.bed.gz  \n",
            "  inflating: ChromHMM/COORDS/rn6/RefSeqExon.rn6.bed.gz  \n",
            "  inflating: ChromHMM/COORDS/rn6/RefSeqGene.rn6.bed.gz  \n",
            "  inflating: ChromHMM/COORDS/rn6/RefSeqTES.rn6.bed.gz  \n",
            "  inflating: ChromHMM/COORDS/rn6/RefSeqTSS.rn6.bed.gz  \n",
            "  inflating: ChromHMM/COORDS/rn6/RefSeqTSS2kb.rn6.bed.gz  \n",
            "   creating: ChromHMM/SAMPLEDATA_HG18/\n",
            "  inflating: ChromHMM/SAMPLEDATA_HG18/GM12878_chr11_binary.txt.gz  \n",
            "  inflating: ChromHMM/SAMPLEDATA_HG18/K562_chr11_binary.txt.gz  \n",
            "   creating: ChromHMM/SRC/\n",
            "   creating: ChromHMM/SRC/edu/\n",
            "   creating: ChromHMM/SRC/edu/mit/\n",
            "   creating: ChromHMM/SRC/edu/mit/compbio/\n",
            "   creating: ChromHMM/SRC/edu/mit/compbio/ChromHMM/\n",
            "  inflating: ChromHMM/SRC/edu/mit/compbio/ChromHMM/BrowserOutput.java  \n",
            "  inflating: ChromHMM/SRC/edu/mit/compbio/ChromHMM/ChromHMM.java  \n",
            "  inflating: ChromHMM/SRC/edu/mit/compbio/ChromHMM/ConvertGeneTable.java  \n",
            "  inflating: ChromHMM/SRC/edu/mit/compbio/ChromHMM/NestedEliminateInitialize.java  \n",
            "  inflating: ChromHMM/SRC/edu/mit/compbio/ChromHMM/Preprocessing.java  \n",
            "  inflating: ChromHMM/SRC/edu/mit/compbio/ChromHMM/StateAnalysis.java  \n",
            "  inflating: ChromHMM/SRC/edu/mit/compbio/ChromHMM/Util.java  \n",
            "   creating: ChromHMM/SRC/org/\n",
            "   creating: ChromHMM/SRC/org/tc33/\n",
            "   creating: ChromHMM/SRC/org/tc33/jheatchart/\n",
            "  inflating: ChromHMM/SRC/org/tc33/jheatchart/HeatChart.java  \n",
            "  inflating: ChromHMM/versionlog.txt  \n"
          ]
        }
      ]
    },
    {
      "cell_type": "markdown",
      "source": [
        "## Скачиваем файлы"
      ],
      "metadata": {
        "id": "k80uGrS5quq1"
      }
    },
    {
      "cell_type": "code",
      "source": [
        "! wget http://hgdownload.cse.ucsc.edu/goldenPath/hg19/encodeDCC/wgEncodeBroadHistone/wgEncodeBroadHistoneNhekControlStdAlnRep1.bam -O ControlStdAlnRep1.bam\n",
        "! wget http://hgdownload.cse.ucsc.edu/goldenPath/hg19/encodeDCC/wgEncodeBroadHistone/wgEncodeBroadHistoneNhekH2azAlnRep1.bam -O H2azAlnRep1.bam\n",
        "! wget http://hgdownload.cse.ucsc.edu/goldenPath/hg19/encodeDCC/wgEncodeBroadHistone/wgEncodeBroadHistoneNhekH3k27acStdAlnRep1.bam -O H3k27acStdAlnRep1.bam\n",
        "! wget http://hgdownload.cse.ucsc.edu/goldenPath/hg19/encodeDCC/wgEncodeBroadHistone/wgEncodeBroadHistoneNhekH3k27me3StdAlnRep1.bam -O H3k27me3StdAlnRep1.bam\n",
        "! wget http://hgdownload.cse.ucsc.edu/goldenPath/hg19/encodeDCC/wgEncodeBroadHistone/wgEncodeBroadHistoneNhekH3k36me3StdAlnRep1.bam -O H3k36me3StdAlnRep1.bam\n",
        "! wget http://hgdownload.cse.ucsc.edu/goldenPath/hg19/encodeDCC/wgEncodeBroadHistone/wgEncodeBroadHistoneNhekH3k4me1StdAlnRep1.bam -O H3k4me1StdAlnRep1.bam\n",
        "! wget http://hgdownload.cse.ucsc.edu/goldenPath/hg19/encodeDCC/wgEncodeBroadHistone/wgEncodeBroadHistoneNhekH3k4me2StdAlnRep1.bam -O H3k4me2StdAlnRep1.bam\n",
        "! wget http://hgdownload.cse.ucsc.edu/goldenPath/hg19/encodeDCC/wgEncodeBroadHistone/wgEncodeBroadHistoneNhekH3k4me3StdAlnRep1.bam -O H3k4me3StdAlnRep1.bam\n",
        "! wget http://hgdownload.cse.ucsc.edu/goldenPath/hg19/encodeDCC/wgEncodeBroadHistone/wgEncodeBroadHistoneNhekH3k79me2AlnRep1.bam -O H3k79me2AlnRep1.bam\n",
        "! wget http://hgdownload.cse.ucsc.edu/goldenPath/hg19/encodeDCC/wgEncodeBroadHistone/wgEncodeBroadHistoneNhekH3k9acStdAlnRep1.bam -O H3k9acStdAlnRep1.bam\n",
        "! wget http://hgdownload.cse.ucsc.edu/goldenPath/hg19/encodeDCC/wgEncodeBroadHistone/wgEncodeBroadHistoneNhekH4k20me1StdAlnRep1.bam -O H4k20me1StdAlnRep1.bam"
      ],
      "metadata": {
        "id": "PSWbbv8wcFUY",
        "colab": {
          "base_uri": "https://localhost:8080/"
        },
        "outputId": "4f05ee07-50b9-44d9-fca5-66ffab9eb9e2"
      },
      "execution_count": null,
      "outputs": [
        {
          "output_type": "stream",
          "name": "stdout",
          "text": [
            "--2024-03-21 20:25:43--  http://hgdownload.cse.ucsc.edu/goldenPath/hg19/encodeDCC/wgEncodeBroadHistone/wgEncodeBroadHistoneNhekControlStdAlnRep1.bam\n",
            "Resolving hgdownload.cse.ucsc.edu (hgdownload.cse.ucsc.edu)... 128.114.198.53\n",
            "Connecting to hgdownload.cse.ucsc.edu (hgdownload.cse.ucsc.edu)|128.114.198.53|:80... connected.\n",
            "HTTP request sent, awaiting response... 200 OK\n",
            "Length: 660618994 (630M) [application/octet-stream]\n",
            "Saving to: ‘ControlStdAlnRep1.bam’\n",
            "\n",
            "ControlStdAlnRep1.b 100%[===================>] 630.01M  38.0MB/s    in 16s     \n",
            "\n",
            "2024-03-21 20:25:59 (39.6 MB/s) - ‘ControlStdAlnRep1.bam’ saved [660618994/660618994]\n",
            "\n",
            "--2024-03-21 20:25:59--  http://hgdownload.cse.ucsc.edu/goldenPath/hg19/encodeDCC/wgEncodeBroadHistone/wgEncodeBroadHistoneNhekH2azAlnRep1.bam\n",
            "Resolving hgdownload.cse.ucsc.edu (hgdownload.cse.ucsc.edu)... 128.114.198.53\n",
            "Connecting to hgdownload.cse.ucsc.edu (hgdownload.cse.ucsc.edu)|128.114.198.53|:80... connected.\n",
            "HTTP request sent, awaiting response... 200 OK\n",
            "Length: 1742558672 (1.6G) [application/octet-stream]\n",
            "Saving to: ‘H2azAlnRep1.bam’\n",
            "\n",
            "H2azAlnRep1.bam     100%[===================>]   1.62G  41.6MB/s    in 41s     \n",
            "\n",
            "2024-03-21 20:26:41 (40.5 MB/s) - ‘H2azAlnRep1.bam’ saved [1742558672/1742558672]\n",
            "\n",
            "--2024-03-21 20:26:41--  http://hgdownload.cse.ucsc.edu/goldenPath/hg19/encodeDCC/wgEncodeBroadHistone/wgEncodeBroadHistoneNhekH3k27acStdAlnRep1.bam\n",
            "Resolving hgdownload.cse.ucsc.edu (hgdownload.cse.ucsc.edu)... 128.114.198.53\n",
            "Connecting to hgdownload.cse.ucsc.edu (hgdownload.cse.ucsc.edu)|128.114.198.53|:80... connected.\n",
            "HTTP request sent, awaiting response... 200 OK\n",
            "Length: 729517483 (696M) [application/octet-stream]\n",
            "Saving to: ‘H3k27acStdAlnRep1.bam’\n",
            "\n",
            "H3k27acStdAlnRep1.b 100%[===================>] 695.72M  41.6MB/s    in 18s     \n",
            "\n",
            "2024-03-21 20:26:59 (39.5 MB/s) - ‘H3k27acStdAlnRep1.bam’ saved [729517483/729517483]\n",
            "\n",
            "--2024-03-21 20:26:59--  http://hgdownload.cse.ucsc.edu/goldenPath/hg19/encodeDCC/wgEncodeBroadHistone/wgEncodeBroadHistoneNhekH3k27me3StdAlnRep1.bam\n",
            "Resolving hgdownload.cse.ucsc.edu (hgdownload.cse.ucsc.edu)... 128.114.198.53\n",
            "Connecting to hgdownload.cse.ucsc.edu (hgdownload.cse.ucsc.edu)|128.114.198.53|:80... connected.\n",
            "HTTP request sent, awaiting response... 200 OK\n",
            "Length: 636937863 (607M) [application/octet-stream]\n",
            "Saving to: ‘H3k27me3StdAlnRep1.bam’\n",
            "\n",
            "H3k27me3StdAlnRep1. 100%[===================>] 607.43M  41.7MB/s    in 15s     \n",
            "\n",
            "2024-03-21 20:27:14 (40.1 MB/s) - ‘H3k27me3StdAlnRep1.bam’ saved [636937863/636937863]\n",
            "\n",
            "--2024-03-21 20:27:14--  http://hgdownload.cse.ucsc.edu/goldenPath/hg19/encodeDCC/wgEncodeBroadHistone/wgEncodeBroadHistoneNhekH3k36me3StdAlnRep1.bam\n",
            "Resolving hgdownload.cse.ucsc.edu (hgdownload.cse.ucsc.edu)... 128.114.198.53\n",
            "Connecting to hgdownload.cse.ucsc.edu (hgdownload.cse.ucsc.edu)|128.114.198.53|:80... connected.\n",
            "HTTP request sent, awaiting response... 200 OK\n",
            "Length: 683444273 (652M) [application/octet-stream]\n",
            "Saving to: ‘H3k36me3StdAlnRep1.bam’\n",
            "\n",
            "H3k36me3StdAlnRep1. 100%[===================>] 651.78M  41.3MB/s    in 16s     \n",
            "\n",
            "2024-03-21 20:27:31 (40.3 MB/s) - ‘H3k36me3StdAlnRep1.bam’ saved [683444273/683444273]\n",
            "\n",
            "--2024-03-21 20:27:31--  http://hgdownload.cse.ucsc.edu/goldenPath/hg19/encodeDCC/wgEncodeBroadHistone/wgEncodeBroadHistoneNhekH3k4me1StdAlnRep1.bam\n",
            "Resolving hgdownload.cse.ucsc.edu (hgdownload.cse.ucsc.edu)... 128.114.198.53\n",
            "Connecting to hgdownload.cse.ucsc.edu (hgdownload.cse.ucsc.edu)|128.114.198.53|:80... connected.\n",
            "HTTP request sent, awaiting response... 200 OK\n",
            "Length: 783698194 (747M) [application/octet-stream]\n",
            "Saving to: ‘H3k4me1StdAlnRep1.bam’\n",
            "\n",
            "H3k4me1StdAlnRep1.b 100%[===================>] 747.39M  41.3MB/s    in 19s     \n",
            "\n",
            "2024-03-21 20:27:50 (40.2 MB/s) - ‘H3k4me1StdAlnRep1.bam’ saved [783698194/783698194]\n",
            "\n",
            "--2024-03-21 20:27:50--  http://hgdownload.cse.ucsc.edu/goldenPath/hg19/encodeDCC/wgEncodeBroadHistone/wgEncodeBroadHistoneNhekH3k4me2StdAlnRep1.bam\n",
            "Resolving hgdownload.cse.ucsc.edu (hgdownload.cse.ucsc.edu)... 128.114.198.53\n",
            "Connecting to hgdownload.cse.ucsc.edu (hgdownload.cse.ucsc.edu)|128.114.198.53|:80... connected.\n",
            "HTTP request sent, awaiting response... 200 OK\n",
            "Length: 772562207 (737M) [application/octet-stream]\n",
            "Saving to: ‘H3k4me2StdAlnRep1.bam’\n",
            "\n",
            "H3k4me2StdAlnRep1.b 100%[===================>] 736.77M  41.3MB/s    in 19s     \n",
            "\n",
            "2024-03-21 20:28:09 (39.5 MB/s) - ‘H3k4me2StdAlnRep1.bam’ saved [772562207/772562207]\n",
            "\n",
            "--2024-03-21 20:28:09--  http://hgdownload.cse.ucsc.edu/goldenPath/hg19/encodeDCC/wgEncodeBroadHistone/wgEncodeBroadHistoneNhekH3k4me3StdAlnRep1.bam\n",
            "Resolving hgdownload.cse.ucsc.edu (hgdownload.cse.ucsc.edu)... 128.114.198.53\n",
            "Connecting to hgdownload.cse.ucsc.edu (hgdownload.cse.ucsc.edu)|128.114.198.53|:80... connected.\n",
            "HTTP request sent, awaiting response... 200 OK\n",
            "Length: 644281155 (614M) [application/octet-stream]\n",
            "Saving to: ‘H3k4me3StdAlnRep1.bam’\n",
            "\n",
            "H3k4me3StdAlnRep1.b 100%[===================>] 614.43M  41.3MB/s    in 15s     \n",
            "\n",
            "2024-03-21 20:28:25 (39.9 MB/s) - ‘H3k4me3StdAlnRep1.bam’ saved [644281155/644281155]\n",
            "\n",
            "--2024-03-21 20:28:25--  http://hgdownload.cse.ucsc.edu/goldenPath/hg19/encodeDCC/wgEncodeBroadHistone/wgEncodeBroadHistoneNhekH3k79me2AlnRep1.bam\n",
            "Resolving hgdownload.cse.ucsc.edu (hgdownload.cse.ucsc.edu)... 128.114.198.53\n",
            "Connecting to hgdownload.cse.ucsc.edu (hgdownload.cse.ucsc.edu)|128.114.198.53|:80... connected.\n",
            "HTTP request sent, awaiting response... 200 OK\n",
            "Length: 1539400005 (1.4G) [application/octet-stream]\n",
            "Saving to: ‘H3k79me2AlnRep1.bam’\n",
            "\n",
            "H3k79me2AlnRep1.bam 100%[===================>]   1.43G  41.6MB/s    in 36s     \n",
            "\n",
            "2024-03-21 20:29:02 (40.3 MB/s) - ‘H3k79me2AlnRep1.bam’ saved [1539400005/1539400005]\n",
            "\n",
            "--2024-03-21 20:29:02--  http://hgdownload.cse.ucsc.edu/goldenPath/hg19/encodeDCC/wgEncodeBroadHistone/wgEncodeBroadHistoneNhekH3k9acStdAlnRep1.bam\n",
            "Resolving hgdownload.cse.ucsc.edu (hgdownload.cse.ucsc.edu)... 128.114.198.53\n",
            "Connecting to hgdownload.cse.ucsc.edu (hgdownload.cse.ucsc.edu)|128.114.198.53|:80... connected.\n",
            "HTTP request sent, awaiting response... 200 OK\n",
            "Length: 573352794 (547M) [application/octet-stream]\n",
            "Saving to: ‘H3k9acStdAlnRep1.bam’\n",
            "\n",
            "H3k9acStdAlnRep1.ba 100%[===================>] 546.79M  41.5MB/s    in 14s     \n",
            "\n",
            "2024-03-21 20:29:16 (40.0 MB/s) - ‘H3k9acStdAlnRep1.bam’ saved [573352794/573352794]\n",
            "\n",
            "--2024-03-21 20:29:16--  http://hgdownload.cse.ucsc.edu/goldenPath/hg19/encodeDCC/wgEncodeBroadHistone/wgEncodeBroadHistoneNhekH4k20me1StdAlnRep1.bam\n",
            "Resolving hgdownload.cse.ucsc.edu (hgdownload.cse.ucsc.edu)... 128.114.198.53\n",
            "Connecting to hgdownload.cse.ucsc.edu (hgdownload.cse.ucsc.edu)|128.114.198.53|:80... connected.\n",
            "HTTP request sent, awaiting response... 200 OK\n",
            "Length: 741636330 (707M) [application/octet-stream]\n",
            "Saving to: ‘H4k20me1StdAlnRep1.bam’\n",
            "\n",
            "H4k20me1StdAlnRep1. 100%[===================>] 707.28M  41.7MB/s    in 18s     \n",
            "\n",
            "2024-03-21 20:29:34 (39.8 MB/s) - ‘H4k20me1StdAlnRep1.bam’ saved [741636330/741636330]\n",
            "\n"
          ]
        }
      ]
    },
    {
      "cell_type": "markdown",
      "source": [
        "* Вручную создаем текстовый файл cellmarkfiletable.txt, в котором указываем название типа клеток, разных гистоновых меток, а также соответствующие .bam файлы для эксперимента и контроля. Один и тот же контрольный файл .bam может быть использован для всех экспериментов.\n",
        "\n",
        "* Более подробно о содержании файла cellmarkfiletable.txt можно посмотреть в руководстве пользователя ChromHMM\n",
        "\n",
        "* Файл cellmarkfiletable.txt добавляем в github репозиторий для отчета"
      ],
      "metadata": {
        "id": "asjMJ26h79SY"
      }
    },
    {
      "cell_type": "markdown",
      "source": [
        "Запускаем ChromHMM с опцией BinarizeBam, чтобы конвертировать профили из ChIP-seq экспериментов (bam-файлы) в табличку из 0 и 1, т.е. чтобы сделать разбивку генома на условные интервалы (бины) длиной 200 п.о.\n",
        "Для 11 меток программа работает около 5 мин\n"
      ],
      "metadata": {
        "id": "WeoRL3rp728b"
      }
    },
    {
      "cell_type": "code",
      "source": [
        "!java -mx5000M -jar /content/ChromHMM/ChromHMM.jar BinarizeBam -b 200  /content/ChromHMM/CHROMSIZES/hg19.txt /content/ cellmarkfiletable.txt   binarizedData"
      ],
      "metadata": {
        "colab": {
          "base_uri": "https://localhost:8080/"
        },
        "id": "GcVBvuQZfzb8",
        "outputId": "be8f802f-df00-44e9-8e00-09a793466ddc"
      },
      "execution_count": null,
      "outputs": [
        {
          "output_type": "stream",
          "name": "stdout",
          "text": [
            "Writing to file binarizedData/NHEK_chr1_binary.txt\n",
            "Writing to file binarizedData/NHEK_chr2_binary.txt\n",
            "Writing to file binarizedData/NHEK_chr3_binary.txt\n",
            "Writing to file binarizedData/NHEK_chr4_binary.txt\n",
            "Writing to file binarizedData/NHEK_chr5_binary.txt\n",
            "Writing to file binarizedData/NHEK_chr6_binary.txt\n",
            "Writing to file binarizedData/NHEK_chr7_binary.txt\n",
            "Writing to file binarizedData/NHEK_chrX_binary.txt\n",
            "Writing to file binarizedData/NHEK_chr8_binary.txt\n",
            "Writing to file binarizedData/NHEK_chr9_binary.txt\n",
            "Writing to file binarizedData/NHEK_chr10_binary.txt\n",
            "Writing to file binarizedData/NHEK_chr11_binary.txt\n",
            "Writing to file binarizedData/NHEK_chr12_binary.txt\n",
            "Writing to file binarizedData/NHEK_chr13_binary.txt\n",
            "Writing to file binarizedData/NHEK_chr14_binary.txt\n",
            "Writing to file binarizedData/NHEK_chr15_binary.txt\n",
            "Writing to file binarizedData/NHEK_chr16_binary.txt\n",
            "Writing to file binarizedData/NHEK_chr17_binary.txt\n",
            "Writing to file binarizedData/NHEK_chr18_binary.txt\n",
            "Writing to file binarizedData/NHEK_chr20_binary.txt\n",
            "Writing to file binarizedData/NHEK_chr19_binary.txt\n",
            "Writing to file binarizedData/NHEK_chr22_binary.txt\n",
            "Writing to file binarizedData/NHEK_chr21_binary.txt\n",
            "Writing to file binarizedData/NHEK_chrM_binary.txt\n"
          ]
        }
      ]
    },
    {
      "cell_type": "markdown",
      "source": [
        "Запускаем ChromHMM с опцией LearnModel (см. руководство пользователя), которая автоматически определит параметры N разных эпигенетических типов с наиболее выраженными наборами гистоновых меток и присвоит каждому геномному интервалу определенный эпигенетический тип. Количество разных эпигенетических типов (или состояний) выбираете сами (например 10 штук).\n",
        "Не забудьте, что мы работаем с версией референсного генома человека hg19\n",
        "Для 11 меток программа работает около 10 минут\n"
      ],
      "metadata": {
        "id": "Yo11TtNG8SXU"
      }
    },
    {
      "cell_type": "markdown",
      "source": [
        "В результате выполнения команды LearnModel будет создан набор файлов (в том числе HTML страничка) в папке выдачи, которая была указана при запуске. Скачиваем эту папку себе на копьютер и открываем HTML файл.\n",
        "\n",
        "Дальнейшие инстркции -- см. в описании ДЗ"
      ],
      "metadata": {
        "id": "7yuCmmw-gsFC"
      }
    },
    {
      "cell_type": "code",
      "source": [
        "!java -mx5000M -jar /content/ChromHMM/ChromHMM.jar LearnModel /content/binarizedData learnmodel 10 hg19"
      ],
      "metadata": {
        "id": "QtN6ugXK8hb0",
        "colab": {
          "base_uri": "https://localhost:8080/"
        },
        "outputId": "f8f2fb87-0f3a-4cd8-b2d4-e1d4254b086a"
      },
      "execution_count": null,
      "outputs": [
        {
          "output_type": "stream",
          "name": "stdout",
          "text": [
            "Writing to file learnmodel/transitions_10.txt\n",
            "Writing to file learnmodel/emissions_10.txt\n",
            "Writing to file learnmodel/emissions_10.svg\n",
            "Writing to file learnmodel/emissions_10.png\n",
            "Writing to file learnmodel/transitions_10.png\n",
            "Writing to file learnmodel/transitions_10.svg\n",
            "Writing to file learnmodel/model_10.txt\n",
            " Iteration  Estimated Log Likelihood     Change    Total Time (secs)\n",
            "         1              -9865246.745          -                 17.1\n",
            "         2              -8368603.748 1496642.997                 32.9\n",
            "         3              -8083775.139 284828.609                 45.3\n",
            "         4              -7893456.266 190318.873                 57.3\n",
            "         5              -7767643.470 125812.796                 72.9\n",
            "         6              -7671807.663  95835.807                 84.5\n",
            "         7              -7607123.008  64684.655                 95.9\n",
            "         8              -7584421.170  22701.838                117.9\n",
            "         9              -7575799.216   8621.953                131.0\n",
            "        10              -7571959.149   3840.067                143.7\n",
            "        11              -7570135.853   1823.297                156.6\n",
            "        12              -7569211.483    924.370                169.3\n",
            "        13              -7568678.935    532.547                184.1\n",
            "        14              -7568296.925    382.010                195.2\n",
            "        15              -7567930.449    366.477                205.5\n",
            "        16              -7567459.227    471.221                217.0\n",
            "        17              -7566687.522    771.705                228.5\n",
            "        18              -7565151.485   1536.037                239.9\n",
            "        19              -7561704.846   3446.639                250.4\n",
            "        20              -7555209.163   6495.683                261.3\n",
            "        21              -7548550.411   6658.752                272.7\n",
            "        22              -7544303.058   4247.353                284.1\n",
            "        23              -7541600.167   2702.891                295.0\n",
            "        24              -7539843.090   1757.077                305.3\n",
            "        25              -7538708.884   1134.206                316.7\n",
            "        26              -7537992.885    715.999                328.1\n",
            "        27              -7537554.818    438.067                339.7\n",
            "        28              -7537295.945    258.873                348.8\n",
            "        29              -7537147.908    148.036                359.7\n",
            "        30              -7537064.803     83.105                370.6\n",
            "        31              -7537018.283     46.520                381.5\n",
            "        32              -7536992.002     26.281                390.7\n",
            "        33              -7536976.919     15.083                401.7\n",
            "        34              -7536968.009      8.909                412.7\n",
            "        35              -7536962.535      5.475                423.3\n",
            "        36              -7536958.997      3.537                433.0\n",
            "        37              -7536956.571      2.426                448.3\n",
            "        38              -7536954.804      1.767                459.3\n",
            "        39              -7536953.439      1.365                469.9\n",
            "        40              -7536952.330      1.109                479.6\n",
            "        41              -7536951.396      0.934                490.7\n",
            "        42              -7536950.586      0.810                502.2\n",
            "        43              -7536949.869      0.717                513.6\n",
            "        44              -7536949.227      0.642                523.0\n",
            "        45              -7536948.646      0.581                534.0\n",
            "        46              -7536948.118      0.529                545.0\n",
            "        47              -7536947.634      0.484                555.3\n",
            "        48              -7536947.190      0.443                565.2\n",
            "        49              -7536946.782      0.408                576.2\n",
            "        50              -7536946.406      0.376                587.2\n",
            "        51              -7536946.059      0.347                597.2\n",
            "        52              -7536945.737      0.322                607.5\n",
            "        53              -7536945.440      0.297                618.7\n",
            "        54              -7536945.164      0.276                629.7\n",
            "        55              -7536944.908      0.256                639.2\n",
            "        56              -7536944.670      0.238                649.8\n",
            "        57              -7536944.449      0.221                660.8\n",
            "        58              -7536944.243      0.206                671.8\n",
            "        59              -7536944.051      0.192                681.0\n",
            "        60              -7536943.872      0.179                692.3\n",
            "        61              -7536943.705      0.167                703.3\n",
            "        62              -7536943.549      0.155                714.3\n",
            "        63              -7536943.404      0.146                723.4\n",
            "        64              -7536943.268      0.136                734.5\n",
            "        65              -7536943.141      0.127                745.5\n",
            "        66              -7536943.022      0.119                756.3\n",
            "        67              -7536942.910      0.111                765.9\n",
            "        68              -7536942.806      0.105                776.9\n",
            "        69              -7536942.708      0.098                787.9\n",
            "        70              -7536942.616      0.092                798.6\n",
            "        71              -7536942.529      0.087                808.2\n",
            "        72              -7536942.448      0.081                819.2\n",
            "        73              -7536942.373      0.075                830.1\n",
            "        74              -7536942.301      0.072                840.3\n",
            "        75              -7536942.234      0.067                850.3\n",
            "        76              -7536942.171      0.063                861.3\n",
            "        77              -7536942.112      0.059                872.3\n",
            "        78              -7536942.056      0.056                882.1\n",
            "        79              -7536942.003      0.053                892.5\n",
            "        80              -7536941.954      0.049                903.5\n",
            "        81              -7536941.908      0.047                914.5\n",
            "        82              -7536941.863      0.044                923.8\n",
            "        83              -7536941.822      0.042                934.8\n",
            "        84              -7536941.783      0.038                945.7\n",
            "        85              -7536941.746      0.037                956.7\n",
            "        86              -7536941.712      0.034                965.9\n",
            "        87              -7536941.679      0.033                976.9\n",
            "        88              -7536941.648      0.031                987.9\n",
            "        89              -7536941.619      0.029                998.7\n",
            "        90              -7536941.592      0.027               1008.0\n",
            "        91              -7536941.566      0.026               1018.9\n",
            "        92              -7536941.542      0.024               1029.9\n",
            "        93              -7536941.519      0.023               1040.5\n",
            "        94              -7536941.497      0.022               1050.1\n",
            "        95              -7536941.477      0.020               1061.1\n",
            "        96              -7536941.457      0.020               1072.1\n",
            "        97              -7536941.438      0.019               1082.1\n",
            "        98              -7536941.421      0.017               1092.3\n",
            "        99              -7536941.405      0.017               1103.3\n",
            "       100              -7536941.389      0.016               1116.0\n",
            "       101              -7536941.375      0.014               1125.8\n",
            "       102              -7536941.361      0.014               1136.3\n",
            "       103              -7536941.348      0.013               1147.3\n",
            "       104              -7536941.335      0.012               1158.5\n",
            "       105              -7536941.324      0.012               1168.0\n",
            "       106              -7536941.313      0.011               1178.6\n",
            "       107              -7536941.302      0.011               1189.6\n",
            "       108              -7536941.292      0.010               1200.5\n",
            "       109              -7536941.283      0.009               1209.7\n",
            "       110              -7536941.274      0.009               1220.7\n",
            "       111              -7536941.266      0.008               1231.6\n",
            "       112              -7536941.258      0.008               1242.6\n",
            "       113              -7536941.250      0.008               1251.7\n",
            "       114              -7536941.243      0.007               1262.7\n",
            "       115              -7536941.237      0.007               1273.7\n",
            "       116              -7536941.230      0.006               1284.2\n",
            "       117              -7536941.225      0.006               1293.8\n",
            "       118              -7536941.219      0.006               1304.8\n",
            "       119              -7536941.213      0.005               1315.7\n",
            "       120              -7536941.208      0.005               1325.9\n",
            "       121              -7536941.203      0.005               1335.9\n",
            "       122              -7536941.199      0.005               1346.9\n",
            "       123              -7536941.195      0.004               1358.3\n",
            "       124              -7536941.190      0.005               1367.8\n",
            "       125              -7536941.187      0.003               1378.4\n",
            "       126              -7536941.183      0.004               1389.3\n",
            "       127              -7536941.180      0.004               1400.3\n",
            "       128              -7536941.177      0.003               1409.5\n",
            "       129              -7536941.174      0.003               1420.5\n",
            "       130              -7536941.170      0.003               1431.5\n",
            "       131              -7536941.167      0.003               1442.4\n",
            "       132              -7536941.165      0.003               1451.6\n",
            "       133              -7536941.163      0.002               1462.5\n",
            "       134              -7536941.160      0.002               1473.6\n",
            "       135              -7536941.158      0.002               1484.2\n",
            "       136              -7536941.156      0.002               1493.7\n",
            "       137              -7536941.154      0.002               1504.7\n",
            "       138              -7536941.152      0.002               1515.7\n",
            "       139              -7536941.150      0.002               1526.0\n",
            "       140              -7536941.148      0.002               1535.9\n",
            "       141              -7536941.147      0.002               1546.8\n",
            "       142              -7536941.145      0.001               1557.8\n",
            "       143              -7536941.144      0.002               1567.6\n",
            "       144              -7536941.142      0.001               1578.0\n",
            "       145              -7536941.141      0.001               1589.0\n",
            "Writing to file learnmodel/NHEK_10_segments.bed\n",
            "Writing to file learnmodel/NHEK_10_dense.bed\n",
            "Writing to file learnmodel/NHEK_10_expanded.bed\n",
            "Writing to file learnmodel/NHEK_10_overlap.txt\n",
            "Writing to file learnmodel/NHEK_10_overlap.png\n",
            "Writing to file learnmodel/NHEK_10_overlap.svg\n",
            "Writing to file learnmodel/NHEK_10_RefSeqTSS_neighborhood.txt\n",
            "Writing to file learnmodel/NHEK_10_RefSeqTSS_neighborhood.png\n",
            "Writing to file learnmodel/NHEK_10_RefSeqTSS_neighborhood.svg\n",
            "Writing to file learnmodel/NHEK_10_RefSeqTES_neighborhood.txt\n",
            "Writing to file learnmodel/NHEK_10_RefSeqTES_neighborhood.png\n",
            "Writing to file learnmodel/NHEK_10_RefSeqTES_neighborhood.svg\n",
            "Warning could not automatically open in a browser learnmodel/webpage_10.html\n"
          ]
        }
      ]
    },
    {
      "cell_type": "code",
      "source": [
        "!zip -r learnmodel.zip learnmodel"
      ],
      "metadata": {
        "id": "lb-lVgDr8qL8",
        "colab": {
          "base_uri": "https://localhost:8080/"
        },
        "outputId": "5095e60a-2408-4b95-f3ff-542c54a7d8e9"
      },
      "execution_count": null,
      "outputs": [
        {
          "output_type": "stream",
          "name": "stdout",
          "text": [
            "  adding: learnmodel/ (stored 0%)\n",
            "  adding: learnmodel/emissions_10.png (deflated 20%)\n",
            "  adding: learnmodel/NHEK_10_RefSeqTSS_neighborhood.svg (deflated 73%)\n",
            "  adding: learnmodel/emissions_10.svg (deflated 70%)\n",
            "  adding: learnmodel/transitions_10.txt (deflated 49%)\n",
            "  adding: learnmodel/NHEK_10_overlap.svg (deflated 70%)\n",
            "  adding: learnmodel/NHEK_10_overlap.txt (deflated 48%)\n",
            "  adding: learnmodel/NHEK_10_segments.bed (deflated 80%)\n",
            "  adding: learnmodel/NHEK_10_expanded.bed (deflated 70%)\n",
            "  adding: learnmodel/NHEK_10_dense.bed (deflated 84%)\n",
            "  adding: learnmodel/model_10.txt (deflated 71%)\n",
            "  adding: learnmodel/emissions_10.txt (deflated 48%)\n",
            "  adding: learnmodel/NHEK_10_RefSeqTES_neighborhood.svg (deflated 73%)\n",
            "  adding: learnmodel/NHEK_10_RefSeqTSS_neighborhood.txt (deflated 51%)\n",
            "  adding: learnmodel/NHEK_10_RefSeqTES_neighborhood.txt (deflated 55%)\n",
            "  adding: learnmodel/transitions_10.svg (deflated 68%)\n",
            "  adding: learnmodel/transitions_10.png (deflated 17%)\n",
            "  adding: learnmodel/NHEK_10_RefSeqTES_neighborhood.png (deflated 37%)\n",
            "  adding: learnmodel/NHEK_10_overlap.png (deflated 19%)\n",
            "  adding: learnmodel/webpage_10.html (deflated 71%)\n",
            "  adding: learnmodel/NHEK_10_RefSeqTSS_neighborhood.png (deflated 33%)\n"
          ]
        }
      ]
    },
    {
      "cell_type": "code",
      "source": [
        "from google.colab import drive\n",
        "drive.mount('/content/drive')"
      ],
      "metadata": {
        "colab": {
          "base_uri": "https://localhost:8080/"
        },
        "id": "gPatmMB2GqlT",
        "outputId": "bef62cb8-16d0-4f57-cc14-5c4250573ce2"
      },
      "execution_count": 1,
      "outputs": [
        {
          "output_type": "stream",
          "name": "stdout",
          "text": [
            "Mounted at /content/drive\n"
          ]
        }
      ]
    },
    {
      "cell_type": "code",
      "source": [
        "!mv /content/learnmodel /content/drive/MyDrive/bioinf/"
      ],
      "metadata": {
        "id": "RgXL8tbAG3PX"
      },
      "execution_count": null,
      "outputs": []
    },
    {
      "cell_type": "code",
      "source": [
        "!mv /content/learnmodel.zip /content/drive/MyDrive/bioinf/"
      ],
      "metadata": {
        "id": "zM-jia4FImu4"
      },
      "execution_count": null,
      "outputs": []
    },
    {
      "cell_type": "code",
      "source": [
        "!mv /content/binarizedData /content/drive/MyDrive/bioinf/"
      ],
      "metadata": {
        "id": "GJ2LXvJUI3f0"
      },
      "execution_count": null,
      "outputs": []
    },
    {
      "cell_type": "markdown",
      "source": [
        "## Бонусная часть"
      ],
      "metadata": {
        "id": "89uPnYT--lm7"
      }
    },
    {
      "cell_type": "code",
      "source": [
        "import csv\n",
        "state_to_string = {\n",
        "    \"1\":\"Transcribed_region\",\n",
        "    \"2\":\"Transcribed_region\",\n",
        "    \"3\":\"Strong_enhancer\",\n",
        "    \"4\":\"Strong_enhancer\",\n",
        "    \"5\":\"Active_promoter\",\n",
        "    \"6\":\"Active_promoter\",\n",
        "    \"7\":\"Strong_enhancer\",\n",
        "    \"8\":\"Weak_enhancer\",\n",
        "    \"9\":\"Heterochromatin\",\n",
        "    \"10\":\"Polycomb-repressed\"\n",
        "}\n",
        "with open('/content/drive/MyDrive/bioinf/learnmodel/NHEK_10_dense.bed') as file_r:\n",
        "  with open('/content/drive/MyDrive/bioinf/learnmodel/NHEK_10_re.bed', \"w\") as file_w:\n",
        "    lines = file_r.readlines()\n",
        "    file_w.write(lines[0])\n",
        "    writer = csv.writer(file_w, delimiter=\"\\t\")\n",
        "    for line in lines[1:]:\n",
        "      line_data = line.strip().split(\"\\t\")\n",
        "      line_data[3] = f\"{line_data[3]}_{state_to_string[line_data[3]]}\"\n",
        "      writer.writerow(line_data)"
      ],
      "metadata": {
        "id": "MKUpQy2XHPkH"
      },
      "execution_count": 2,
      "outputs": []
    },
    {
      "cell_type": "code",
      "source": [
        "!head -20 /content/drive/MyDrive/bioinf/learnmodel/NHEK_10_re.bed"
      ],
      "metadata": {
        "colab": {
          "base_uri": "https://localhost:8080/"
        },
        "id": "Z8LJr9iwJ-f3",
        "outputId": "a069b764-e6da-4902-de81-a7145b98cc28"
      },
      "execution_count": 4,
      "outputs": [
        {
          "output_type": "stream",
          "name": "stdout",
          "text": [
            "track name=\"NHEK_10\" description=\"NHEK_10 (Emission ordered)\" visibility=1 itemRgb=\"On\"\n",
            "chr10\t0\t78200\t9_Heterochromatin\t0\t.\t0\t78200\t255,255,0\r\n",
            "chr10\t78200\t79000\t10_Polycomb-repressed\t0\t.\t78200\t79000\t204,153,255\r\n",
            "chr10\t79000\t87600\t9_Heterochromatin\t0\t.\t79000\t87600\t255,255,0\r\n",
            "chr10\t87600\t88200\t8_Weak_enhancer\t0\t.\t87600\t88200\t204,204,102\r\n",
            "chr10\t88200\t109800\t9_Heterochromatin\t0\t.\t88200\t109800\t255,255,0\r\n",
            "chr10\t109800\t110600\t10_Polycomb-repressed\t0\t.\t109800\t110600\t204,153,255\r\n",
            "chr10\t110600\t119600\t9_Heterochromatin\t0\t.\t110600\t119600\t255,255,0\r\n",
            "chr10\t119600\t120400\t6_Active_promoter\t0\t.\t119600\t120400\t0,102,0\r\n",
            "chr10\t120400\t122000\t9_Heterochromatin\t0\t.\t120400\t122000\t255,255,0\r\n",
            "chr10\t122000\t122800\t6_Active_promoter\t0\t.\t122000\t122800\t0,102,0\r\n",
            "chr10\t122800\t127800\t10_Polycomb-repressed\t0\t.\t122800\t127800\t204,153,255\r\n",
            "chr10\t127800\t133200\t9_Heterochromatin\t0\t.\t127800\t133200\t255,255,0\r\n",
            "chr10\t133200\t133600\t8_Weak_enhancer\t0\t.\t133200\t133600\t204,204,102\r\n",
            "chr10\t133600\t135600\t9_Heterochromatin\t0\t.\t133600\t135600\t255,255,0\r\n",
            "chr10\t135600\t135800\t8_Weak_enhancer\t0\t.\t135600\t135800\t204,204,102\r\n",
            "chr10\t135800\t138400\t9_Heterochromatin\t0\t.\t135800\t138400\t255,255,0\r\n",
            "chr10\t138400\t139200\t8_Weak_enhancer\t0\t.\t138400\t139200\t204,204,102\r\n",
            "chr10\t139200\t158200\t9_Heterochromatin\t0\t.\t139200\t158200\t255,255,0\r\n",
            "chr10\t158200\t158800\t8_Weak_enhancer\t0\t.\t158200\t158800\t204,204,102\r\n"
          ]
        }
      ]
    }
  ]
}